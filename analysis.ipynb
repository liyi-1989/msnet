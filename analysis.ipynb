{
 "cells": [
  {
   "cell_type": "code",
   "execution_count": 1,
   "metadata": {
    "collapsed": true
   },
   "outputs": [],
   "source": [
    "library(Matrix)\n",
    "source(\"senet.R\")\n",
    "\n",
    "paras=list(\n",
    "  px=100,\n",
    "  py=20,\n",
    "  n=500,\n",
    "  lambda1=1,\n",
    "  lambda2=100,\n",
    "  noise.signal = 0.25,\n",
    "  noise.response = 10\n",
    ")\n",
    "px=paras$px\n",
    "betastar=sapply(1:px,twobump,px)\n",
    "#betastar=sin(2*pi*(1:px)/px)\n",
    "\n",
    "ctr=list(L = 1,\n",
    "         use.gram = TRUE,\n",
    "         maxiter = 10000, \n",
    "         tol = 1e-8,\n",
    "         init = NULL,\n",
    "         sigma = 0.9)\n",
    "\n",
    "Lpx=crossprod(fd(paras$px))\n",
    "Lpy=crossprod(fd(paras$py))\n",
    "Lx=kronecker(Lpx,diag(rep(1,paras$py)))\n",
    "Ly=kronecker(Lpy,diag(rep(1,paras$px)))\n",
    "GL=crossprod( fd(paras$px*paras$py) ) \n",
    "P=matrix(0,paras$px*paras$py,paras$px*paras$py)\n",
    "for(i in 1:paras$px){ for(j in 1:paras$py){ P[(i-1)*paras$py+j,(j-1)*paras$px+i]=1 } } # Permutation matrix\n",
    "# Lambda = GL\n",
    "# Lambda2 = GL+ t(P)%*%GL%*%P\n",
    "Lambda=Ly\n",
    "Lambda2=Ly+t(P)%*%Lx%*%P\n",
    "Lambda3=GL\n",
    "# L = Ll2(Xt, Lambda, lambda2 = paras$lambda2) ### fixed step-size\n",
    "# L2 = Ll2(Xt, Lambda2, lambda2 = paras$lambda2) ### fixed step-size"
   ]
  },
  {
   "cell_type": "code",
   "execution_count": 15,
   "metadata": {
    "collapsed": true
   },
   "outputs": [],
   "source": [
    "l1s=c(1,10,100,1000)\n",
    "l2s=c(1,10,100,1000)\n",
    "\n",
    "df=NULL\n",
    "for(i in 1:length(l1s)){\n",
    "  for(j in 1:length(l2s)){\n",
    "    df=rbind(df,c(i,j,l1s[i],l2s[j]))\n",
    "  }\n",
    "}\n",
    "colnames(df)=c(\"id1\",\"id2\",\"lambda1\",\"lambda2\")"
   ]
  },
  {
   "cell_type": "code",
   "execution_count": 4,
   "metadata": {
    "collapsed": true
   },
   "outputs": [],
   "source": [
    "resm=matrix(0,nrow(df),3)\n",
    "for(jobid in 1:nrow(df)){\n",
    " fname=paste0(\"./results/n\",paras$n,\"px\",paras$px,\"py\",paras$py,\"job\",jobid,\"T\",\"1\")\n",
    " load(paste0(fname,\".RData\"))\n",
    " resm[jobid,1]=norm(slist$input$B-slist$output$Bhat,\"F\")\n",
    " fname=paste0(\"./results/n\",paras$n,\"px\",paras$px,\"py\",paras$py,\"job\",jobid,\"T\",\"2\")\n",
    " load(paste0(fname,\".RData\"))\n",
    " resm[jobid,2]=norm(slist$input$B-slist$output$Bhat,\"F\")\n",
    " fname=paste0(\"./results/n\",paras$n,\"px\",paras$px,\"py\",paras$py,\"job\",jobid,\"T\",\"3\")\n",
    " load(paste0(fname,\".RData\"))\n",
    " resm[jobid,3]=norm(slist$input$B-slist$output$Bhat,\"F\")\n",
    "}"
   ]
  },
  {
   "cell_type": "code",
   "execution_count": 16,
   "metadata": {
    "collapsed": false
   },
   "outputs": [
    {
     "data": {
      "text/html": [
       "<table>\n",
       "<thead><tr><th scope=col>id1</th><th scope=col>id2</th><th scope=col>lambda1</th><th scope=col>lambda2</th><th scope=col></th><th scope=col></th><th scope=col></th></tr></thead>\n",
       "<tbody>\n",
       "\t<tr><td>1        </td><td>1        </td><td>   1     </td><td>   1     </td><td>1.8670989</td><td>1.8670774</td><td>1.8670656</td></tr>\n",
       "\t<tr><td>1        </td><td>2        </td><td>   1     </td><td>  10     </td><td>1.8670902</td><td>1.8668755</td><td>1.8667633</td></tr>\n",
       "\t<tr><td>1        </td><td>3        </td><td>   1     </td><td> 100     </td><td>1.8669798</td><td>1.8648679</td><td>1.8637818</td></tr>\n",
       "\t<tr><td>1        </td><td>4        </td><td>   1     </td><td>1000     </td><td>1.8660360</td><td>1.8475254</td><td>1.8371321</td></tr>\n",
       "\t<tr><td>2        </td><td>1        </td><td>  10     </td><td>   1     </td><td>1.8583231</td><td>1.8583016</td><td>1.8582893</td></tr>\n",
       "\t<tr><td>2        </td><td>2        </td><td>  10     </td><td>  10     </td><td>1.8583156</td><td>1.8581012</td><td>1.8579876</td></tr>\n",
       "\t<tr><td>2        </td><td>3        </td><td>  10     </td><td> 100     </td><td>1.8582054</td><td>1.8560996</td><td>1.8550261</td></tr>\n",
       "\t<tr><td>2        </td><td>4        </td><td>  10     </td><td>1000     </td><td>1.8572801</td><td>1.8388241</td><td>1.8284407</td></tr>\n",
       "\t<tr><td>3        </td><td>1        </td><td> 100     </td><td>   1     </td><td>1.7700038</td><td>1.7699826</td><td>1.7699653</td></tr>\n",
       "\t<tr><td>3        </td><td>2        </td><td> 100     </td><td>  10     </td><td>1.7699678</td><td>1.7697542</td><td>1.7696672</td></tr>\n",
       "\t<tr><td>3        </td><td>3        </td><td> 100     </td><td> 100     </td><td>1.7699022</td><td>1.7678427</td><td>1.7667616</td></tr>\n",
       "\t<tr><td>3        </td><td>4        </td><td> 100     </td><td>1000     </td><td>1.7691394</td><td>1.7510428</td><td>1.7407702</td></tr>\n",
       "\t<tr><td>4        </td><td>1        </td><td>1000     </td><td>   1     </td><td>0.9203997</td><td>0.9203734</td><td>0.9203414</td></tr>\n",
       "\t<tr><td>4        </td><td>2        </td><td>1000     </td><td>  10     </td><td>0.9206055</td><td>0.9203103</td><td>0.9199786</td></tr>\n",
       "\t<tr><td>4        </td><td>3        </td><td>1000     </td><td> 100     </td><td>0.9225340</td><td>0.9196548</td><td>0.9164112</td></tr>\n",
       "\t<tr><td>4        </td><td>4        </td><td>1000     </td><td>1000     </td><td>0.9431512</td><td>0.9210405</td><td>0.8864113</td></tr>\n",
       "</tbody>\n",
       "</table>\n"
      ],
      "text/latex": [
       "\\begin{tabular}{lllllll}\n",
       " id1 & id2 & lambda1 & lambda2 &  &  & \\\\\n",
       "\\hline\n",
       "\t 1         & 1         &    1      &    1      & 1.8670989 & 1.8670774 & 1.8670656\\\\\n",
       "\t 1         & 2         &    1      &   10      & 1.8670902 & 1.8668755 & 1.8667633\\\\\n",
       "\t 1         & 3         &    1      &  100      & 1.8669798 & 1.8648679 & 1.8637818\\\\\n",
       "\t 1         & 4         &    1      & 1000      & 1.8660360 & 1.8475254 & 1.8371321\\\\\n",
       "\t 2         & 1         &   10      &    1      & 1.8583231 & 1.8583016 & 1.8582893\\\\\n",
       "\t 2         & 2         &   10      &   10      & 1.8583156 & 1.8581012 & 1.8579876\\\\\n",
       "\t 2         & 3         &   10      &  100      & 1.8582054 & 1.8560996 & 1.8550261\\\\\n",
       "\t 2         & 4         &   10      & 1000      & 1.8572801 & 1.8388241 & 1.8284407\\\\\n",
       "\t 3         & 1         &  100      &    1      & 1.7700038 & 1.7699826 & 1.7699653\\\\\n",
       "\t 3         & 2         &  100      &   10      & 1.7699678 & 1.7697542 & 1.7696672\\\\\n",
       "\t 3         & 3         &  100      &  100      & 1.7699022 & 1.7678427 & 1.7667616\\\\\n",
       "\t 3         & 4         &  100      & 1000      & 1.7691394 & 1.7510428 & 1.7407702\\\\\n",
       "\t 4         & 1         & 1000      &    1      & 0.9203997 & 0.9203734 & 0.9203414\\\\\n",
       "\t 4         & 2         & 1000      &   10      & 0.9206055 & 0.9203103 & 0.9199786\\\\\n",
       "\t 4         & 3         & 1000      &  100      & 0.9225340 & 0.9196548 & 0.9164112\\\\\n",
       "\t 4         & 4         & 1000      & 1000      & 0.9431512 & 0.9210405 & 0.8864113\\\\\n",
       "\\end{tabular}\n"
      ],
      "text/markdown": [
       "1. 1\n",
       "2. 1\n",
       "3. 1\n",
       "4. 1\n",
       "5. 2\n",
       "6. 2\n",
       "7. 2\n",
       "8. 2\n",
       "9. 3\n",
       "10. 3\n",
       "11. 3\n",
       "12. 3\n",
       "13. 4\n",
       "14. 4\n",
       "15. 4\n",
       "16. 4\n",
       "17. 1\n",
       "18. 2\n",
       "19. 3\n",
       "20. 4\n",
       "21. 1\n",
       "22. 2\n",
       "23. 3\n",
       "24. 4\n",
       "25. 1\n",
       "26. 2\n",
       "27. 3\n",
       "28. 4\n",
       "29. 1\n",
       "30. 2\n",
       "31. 3\n",
       "32. 4\n",
       "33. 1\n",
       "34. 1\n",
       "35. 1\n",
       "36. 1\n",
       "37. 10\n",
       "38. 10\n",
       "39. 10\n",
       "40. 10\n",
       "41. 100\n",
       "42. 100\n",
       "43. 100\n",
       "44. 100\n",
       "45. 1000\n",
       "46. 1000\n",
       "47. 1000\n",
       "48. 1000\n",
       "49. 1\n",
       "50. 10\n",
       "51. 100\n",
       "52. 1000\n",
       "53. 1\n",
       "54. 10\n",
       "55. 100\n",
       "56. 1000\n",
       "57. 1\n",
       "58. 10\n",
       "59. 100\n",
       "60. 1000\n",
       "61. 1\n",
       "62. 10\n",
       "63. 100\n",
       "64. 1000\n",
       "65. 1.8670989321424\n",
       "66. 1.86709019358849\n",
       "67. 1.86697976601794\n",
       "68. 1.86603601284504\n",
       "69. 1.85832312134159\n",
       "70. 1.85831563987507\n",
       "71. 1.8582054028047\n",
       "72. 1.85728008557692\n",
       "73. 1.77000384447846\n",
       "74. 1.76996777327491\n",
       "75. 1.76990220172373\n",
       "76. 1.76913944869918\n",
       "77. 0.920399696609127\n",
       "78. 0.920605462825108\n",
       "79. 0.922533964875126\n",
       "80. 0.943151244617502\n",
       "81. 1.86707742627323\n",
       "82. 1.86687545910624\n",
       "83. 1.86486789520652\n",
       "84. 1.84752539477543\n",
       "85. 1.85830163639431\n",
       "86. 1.85810119420153\n",
       "87. 1.85609959623738\n",
       "88. 1.83882411177892\n",
       "89. 1.76998255408465\n",
       "90. 1.76975423871906\n",
       "91. 1.76784271709097\n",
       "92. 1.75104281281701\n",
       "93. 0.920373436145913\n",
       "94. 0.92031028236538\n",
       "95. 0.919654818953731\n",
       "96. 0.921040457563392\n",
       "97. 1.86706560618828\n",
       "98. 1.8667633060759\n",
       "99. 1.86378177211687\n",
       "100. 1.83713212598817\n",
       "101. 1.85828926056218\n",
       "102. 1.85798759297754\n",
       "103. 1.8550261014828\n",
       "104. 1.82844066104804\n",
       "105. 1.76996531571023\n",
       "106. 1.76966716621074\n",
       "107. 1.76676157063765\n",
       "108. 1.74077024997387\n",
       "109. 0.920341354176749\n",
       "110. 0.919978552186571\n",
       "111. 0.916411194454803\n",
       "112. 0.886411295002745\n",
       "\n",
       "\n"
      ],
      "text/plain": [
       "      id1 id2 lambda1 lambda2                              \n",
       " [1,] 1   1      1       1    1.8670989 1.8670774 1.8670656\n",
       " [2,] 1   2      1      10    1.8670902 1.8668755 1.8667633\n",
       " [3,] 1   3      1     100    1.8669798 1.8648679 1.8637818\n",
       " [4,] 1   4      1    1000    1.8660360 1.8475254 1.8371321\n",
       " [5,] 2   1     10       1    1.8583231 1.8583016 1.8582893\n",
       " [6,] 2   2     10      10    1.8583156 1.8581012 1.8579876\n",
       " [7,] 2   3     10     100    1.8582054 1.8560996 1.8550261\n",
       " [8,] 2   4     10    1000    1.8572801 1.8388241 1.8284407\n",
       " [9,] 3   1    100       1    1.7700038 1.7699826 1.7699653\n",
       "[10,] 3   2    100      10    1.7699678 1.7697542 1.7696672\n",
       "[11,] 3   3    100     100    1.7699022 1.7678427 1.7667616\n",
       "[12,] 3   4    100    1000    1.7691394 1.7510428 1.7407702\n",
       "[13,] 4   1   1000       1    0.9203997 0.9203734 0.9203414\n",
       "[14,] 4   2   1000      10    0.9206055 0.9203103 0.9199786\n",
       "[15,] 4   3   1000     100    0.9225340 0.9196548 0.9164112\n",
       "[16,] 4   4   1000    1000    0.9431512 0.9210405 0.8864113"
      ]
     },
     "metadata": {},
     "output_type": "display_data"
    }
   ],
   "source": [
    "df=cbind(df,resm)\n",
    "df"
   ]
  },
  {
   "cell_type": "code",
   "execution_count": 17,
   "metadata": {
    "collapsed": false
   },
   "outputs": [
    {
     "data": {
      "image/png": "[encoded data removed]",
      "text/plain": [
       "plot without title"
      ]
     },
     "metadata": {},
     "output_type": "display_data"
    }
   ],
   "source": [
    "load(\"./results/n500px100py20job13T2.RData\")\n",
    "image(slist$input$B)"
   ]
  },
  {
   "cell_type": "code",
   "execution_count": 18,
   "metadata": {
    "collapsed": false
   },
   "outputs": [
    {
     "data": {
      "image/png": "[encoded data removed]",
      "text/plain": [
       "plot without title"
      ]
     },
     "metadata": {},
     "output_type": "display_data"
    }
   ],
   "source": [
    "image(slist$output$Bhat)"
   ]
  },
  {
   "cell_type": "code",
   "execution_count": null,
   "metadata": {
    "collapsed": true
   },
   "outputs": [],
   "source": []
  }
 ],
 "metadata": {
  "kernelspec": {
   "display_name": "R",
   "language": "R",
   "name": "ir"
  },
  "language_info": {
   "codemirror_mode": "r",
   "file_extension": ".r",
   "mimetype": "text/x-r-source",
   "name": "R",
   "pygments_lexer": "r",
   "version": "3.0.2"
  }
 },
 "nbformat": 4,
 "nbformat_minor": 0
}
